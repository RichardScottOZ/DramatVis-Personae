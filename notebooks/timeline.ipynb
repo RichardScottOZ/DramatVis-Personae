{
 "cells": [
  {
   "cell_type": "code",
   "execution_count": 1,
   "id": "c19d428b",
   "metadata": {},
   "outputs": [],
   "source": [
    "# Installation of Spacy\n",
    "# Need spacy version 2.1.0 for neuralcoref\n",
    "# use python 3.6 for neuralcoref\n",
    "#!python -m spacy download en_core_web_sm"
   ]
  },
  {
   "cell_type": "code",
   "execution_count": 2,
   "id": "f3089549",
   "metadata": {},
   "outputs": [
    {
     "name": "stderr",
     "output_type": "stream",
     "text": [
      "[nltk_data] Downloading package gutenberg to\n",
      "[nltk_data]     C:\\Users\\Bhavya\\AppData\\Roaming\\nltk_data...\n",
      "[nltk_data]   Package gutenberg is already up-to-date!\n"
     ]
    },
    {
     "data": {
      "text/plain": [
       "<spacy.lang.en.English at 0x17b2a8b2198>"
      ]
     },
     "execution_count": 2,
     "metadata": {},
     "output_type": "execute_result"
    }
   ],
   "source": [
    "import matplotlib.pyplot as plt\n",
    "import nltk\n",
    "import re\n",
    "import spacy\n",
    "nltk.download('gutenberg')\n",
    "# benchmark data\n",
    "# https://spacy.io/usage/facts-figures#benchmarks\n",
    "\n",
    "# Load English tokenizer, tagger, parser and NER\n",
    "nlp = spacy.load(\"en_core_web_sm\")\n",
    "\n",
    "# Add neural coref to SpaCy's pipe\n",
    "# https://github.com/huggingface/neuralcoref\n",
    "import neuralcoref\n",
    "neuralcoref.add_to_pipe(nlp)"
   ]
  },
  {
   "cell_type": "code",
   "execution_count": 3,
   "id": "ecd2f4e1",
   "metadata": {},
   "outputs": [
    {
     "data": {
      "text/plain": [
       "'2.1.0'"
      ]
     },
     "execution_count": 3,
     "metadata": {},
     "output_type": "execute_result"
    }
   ],
   "source": [
    "spacy.__version__"
   ]
  },
  {
   "cell_type": "code",
   "execution_count": 4,
   "id": "b3c1533b",
   "metadata": {},
   "outputs": [],
   "source": [
    "book = nltk.corpus.gutenberg.raw('carroll-alice.txt')\n",
    "\n",
    "doc = nlp(book)"
   ]
  },
  {
   "cell_type": "code",
   "execution_count": 5,
   "id": "0c3ded8b",
   "metadata": {},
   "outputs": [],
   "source": [
    "def extract_main_entity(ent):\n",
    "    res = \"\"\n",
    "    for e in ent.ents:\n",
    "        if e.label_ == \"PERSON\":\n",
    "            res = res + e.text + \" \"\n",
    "    return res.strip()"
   ]
  },
  {
   "cell_type": "code",
   "execution_count": 4,
   "id": "444921d7",
   "metadata": {},
   "outputs": [],
   "source": [
    "#file_name = 'HP - The Philosopher Stone.txt' #\n",
    "file_name = 'test_chapter.txt'\n",
    "\n",
    "book = open(file_name, encoding=\"utf8\").read()\n",
    "# clean text - remove all page headers\n",
    "\n",
    "book = re.sub(r'\\W*Page |.*J.K. Rowling\\W*', ' ', book)\n",
    "\n",
    "#doc = nlp(book)"
   ]
  },
  {
   "cell_type": "code",
   "execution_count": 78,
   "id": "01402f71",
   "metadata": {},
   "outputs": [],
   "source": [
    "#for e in doc._.coref_clusters:\n",
    "#    print(e.main, \" -- \",extract_main_entity(e.main))"
   ]
  },
  {
   "cell_type": "code",
   "execution_count": 11,
   "id": "544affa7",
   "metadata": {},
   "outputs": [],
   "source": [
    "chars = {}  # stores all uniques characters in the story along with their number of occurences\n",
    "occ = []  # stores each person entity along with its starting, end index \n",
    "for c in doc._.coref_clusters:\n",
    "    main_ent = extract_main_entity(c.main)\n",
    "    if len(main_ent)>0:\n",
    "        #print(str(main_entity), len(c.mentions))\n",
    "        #main_entity = main_entity.text\n",
    "        if main_ent not in chars:\n",
    "            chars[main_ent] = len(c.mentions)\n",
    "        else:\n",
    "            chars[main_ent] += len(c.mentions)\n",
    "        \n",
    "        for m in c.mentions:\n",
    "            occ.append((main_ent, m.start_char, m.end_char))"
   ]
  },
  {
   "cell_type": "code",
   "execution_count": 12,
   "id": "f09be329",
   "metadata": {},
   "outputs": [
    {
     "data": {
      "text/plain": [
       "Text(0, 0.5, 'Number of Mentions')"
      ]
     },
     "execution_count": 12,
     "metadata": {},
     "output_type": "execute_result"
    },
    {
     "data": {
      "image/png": "[encoded data removed]",
      "text/plain": [
       "<Figure size 432x288 with 1 Axes>"
      ]
     },
     "metadata": {
      "needs_background": "light"
     },
     "output_type": "display_data"
    }
   ],
   "source": [
    "top_chars = [(c, chars[c]) for c in chars]\n",
    "top_chars.sort(key = lambda x: x[1], reverse=True)\n",
    "data = top_chars[:7]\n",
    "x = [t[0] for t in data]\n",
    "y = [t[1] for t in data]\n",
    "plt.bar(x, y)\n",
    "plt.title(\"Most Important characters\")\n",
    "plt.ylabel(\"Number of Mentions\")"
   ]
  },
  {
   "cell_type": "code",
   "execution_count": 12,
   "id": "543469f0",
   "metadata": {},
   "outputs": [],
   "source": [
    "# returns list of positions specific to granualrity \n",
    "# for eg. - retruns where chapter starts\n",
    "# returns list of positions specific to granualrity \n",
    "# for eg. - retruns where chapter starts\n",
    "def delimiter(txt, gran=\"para\"):\n",
    "    if gran==\"para\":\n",
    "        return [m.start() for m in re.finditer('\\n\\n', txt)]\n",
    "    elif gran==\"sent\":\n",
    "        return [sent[-1].idx for sent in doc.sents]\n",
    "    elif gran==\"CHAPTER\":\n",
    "        return [m.start() for m in re.finditer(gran, txt)]        "
   ]
  },
  {
   "cell_type": "code",
   "execution_count": 14,
   "id": "79098500",
   "metadata": {},
   "outputs": [
    {
     "data": {
      "text/plain": [
       "[('Alice', 91, 96),\n",
       " ('Alice', 143, 146),\n",
       " ('Alice', 351, 358),\n",
       " ('Alice', 397, 400),\n",
       " ('Alice', 420, 423)]"
      ]
     },
     "execution_count": 14,
     "metadata": {},
     "output_type": "execute_result"
    }
   ],
   "source": [
    "occ.sort(key = lambda x: x[1])\n",
    "occ[:5]"
   ]
  },
  {
   "cell_type": "code",
   "execution_count": 15,
   "id": "b7b4e69e",
   "metadata": {},
   "outputs": [],
   "source": [
    "# stores characters frequency for each chapter/para\n",
    "delims = delimiter(book, \"CHAPTER\") #    \n",
    "res = []\n",
    "cnt = {}\n",
    "unit_end = 0\n",
    "for w,ind,_ in occ:\n",
    "    if unit_end<len(delims) and ind>delims[unit_end]:\n",
    "        #print(w, ind)\n",
    "        res.append(cnt)\n",
    "        cnt = {}\n",
    "        unit_end = unit_end + 1\n",
    "        \n",
    "    if w not in cnt:\n",
    "        cnt[w] = 1\n",
    "    else:\n",
    "        cnt[w] = cnt[w] + 1\n",
    "res.append(cnt)"
   ]
  },
  {
   "cell_type": "code",
   "execution_count": 16,
   "id": "25fabf88",
   "metadata": {},
   "outputs": [
    {
     "data": {
      "text/plain": [
       "(13, 12)"
      ]
     },
     "execution_count": 16,
     "metadata": {},
     "output_type": "execute_result"
    }
   ],
   "source": [
    "len(res), len(delims)"
   ]
  },
  {
   "cell_type": "code",
   "execution_count": 17,
   "id": "93222f7b",
   "metadata": {},
   "outputs": [],
   "source": [
    "# tranforms data\n",
    "# sotres each char as key and value is the list of frequency for each chapter/para\n",
    "chars_by_time = {}\n",
    "\n",
    "for char,_ in top_chars:\n",
    "        chars_by_time[char] = []\n",
    "\n",
    "for unit in res:\n",
    "    for char in chars:\n",
    "        if char in unit:\n",
    "            chars_by_time[char].append(unit[char])\n",
    "        else:\n",
    "            chars_by_time[char].append(0)"
   ]
  },
  {
   "cell_type": "code",
   "execution_count": 18,
   "id": "da5e3989",
   "metadata": {},
   "outputs": [
    {
     "data": {
      "text/plain": [
       "<matplotlib.legend.Legend at 0x17c34e9c2e8>"
      ]
     },
     "execution_count": 18,
     "metadata": {},
     "output_type": "execute_result"
    },
    {
     "data": {
      "image/png": "[encoded data removed]",
      "text/plain": [
       "<Figure size 432x288 with 1 Axes>"
      ]
     },
     "metadata": {
      "needs_background": "light"
     },
     "output_type": "display_data"
    }
   ],
   "source": [
    "for i, ch in enumerate(chars_by_time):    \n",
    "    if i>5:  # number of characters (lines) to show\n",
    "        break\n",
    "    plt.plot(chars_by_time[ch], label=ch)\n",
    "plt.legend()"
   ]
  },
  {
   "cell_type": "markdown",
   "id": "8fbf4ae3",
   "metadata": {},
   "source": [
    "<h3>package into a function</h3>"
   ]
  },
  {
   "cell_type": "code",
   "execution_count": 7,
   "id": "dc65a92d",
   "metadata": {},
   "outputs": [],
   "source": [
    "def extract_main_entity(ent):\n",
    "    res = \"\"\n",
    "    for e in ent.ents:\n",
    "        if e.label_ == \"PERSON\":\n",
    "            res = res + e.text + \" \"\n",
    "    return res.strip()\n",
    "\n",
    "# returns mapping for each token start index to unit index based on granualrity \n",
    "# There are 3 possible values for granularity namely, para - paragraph, sent - sentence, CHAPTER - chapter\n",
    "def delimiter(txt, doc, gran=\"para\"):\n",
    "    limits = None\n",
    "    if gran==\"para\":\n",
    "        limits = [m.start() for m in re.finditer('\\n\\n', txt)]\n",
    "    elif gran==\"sent\":\n",
    "        limits = [sent.start_char for sent in doc.sents]\n",
    "    elif gran==\"CHAPTER\":\n",
    "        limits = [m.start() for m in re.finditer(gran, txt)]\n",
    "    # mapping a start ind of each token to granularity index\n",
    "    res = {}\n",
    "    limit_ind = 0\n",
    "    for e in doc:\n",
    "        if limit_ind<len(limits) and e.idx>limits[limit_ind]:\n",
    "            limit_ind += 1\n",
    "        res[e.idx] = limit_ind\n",
    "    return res\n",
    "    \n",
    "# given some text and level of granularity, returns list of entities along with their index\n",
    "def timeline(txt, gran=\"para\"):\n",
    "    doc = nlp(txt)\n",
    "    mapping = delimiter(txt, doc, gran)\n",
    "    res = []\n",
    "    for c in doc._.coref_clusters:\n",
    "        # we only consider proper nouns like 'ALICE'\n",
    "        main_ent = extract_main_entity(c.main)\n",
    "        if len(main_ent)>0:\n",
    "            #print(str(main_entity), len(c.mentions))\n",
    "            for ent in c.mentions:\n",
    "                res.append((main_ent, mapping[ent.start_char]))\n",
    "    return res"
   ]
  },
  {
   "cell_type": "code",
   "execution_count": 69,
   "id": "6134690f",
   "metadata": {},
   "outputs": [
    {
     "data": {
      "text/plain": [
       "201"
      ]
     },
     "execution_count": 69,
     "metadata": {},
     "output_type": "execute_result"
    }
   ],
   "source": [
    "len(timeline(book))"
   ]
  },
  {
   "cell_type": "code",
   "execution_count": 8,
   "id": "97b981e9",
   "metadata": {},
   "outputs": [],
   "source": [
    "# Timeline for long doucments\n",
    "# given some text and level of granularity, returns list of entities along with their index\n",
    "def timeline(txt):\n",
    "    limits = []\n",
    "    for i, m in enumerate(re.finditer('\\n\\n', txt)):\n",
    "        if i>0 and i%10==0:  # consider 10 paras as single entity\n",
    "            limits.append(m.start())\n",
    "    limits.append(len(txt))\n",
    "\n",
    "    st = 0\n",
    "    res = {}\n",
    "    for end in limits:\n",
    "        doc = nlp(txt[st:end])\n",
    "        for c in doc._.coref_clusters:\n",
    "            # we only consider proper nouns like 'ALICE'\n",
    "            main_ent = extract_main_entity(c.main)\n",
    "                \n",
    "            if len(main_ent)>0:\n",
    "                if main_ent not in res:\n",
    "                    res[main_ent] = []\n",
    "                #print(str(main_entity), len(c.mentions))\n",
    "                for ent in c.mentions:\n",
    "                    #res.append((main_ent, st + ent.start_char))\n",
    "                    res[main_ent].append((main_ent, st + ent.start_char, st + ent.end_char, ent))\n",
    "        st = end + 1\n",
    "    \n",
    "    r = []\n",
    "    for k in res:\n",
    "        r.extend(res[k])\n",
    "    \n",
    "    return r"
   ]
  },
  {
   "cell_type": "code",
   "execution_count": 9,
   "id": "5bdff9c2",
   "metadata": {},
   "outputs": [
    {
     "data": {
      "text/plain": [
       "[('Historic Annapolis', 114, 132, Historic Annapolis),\n",
       " ('Historic Annapolis', 174, 177, her),\n",
       " ('Historic Annapolis', 201, 203, it),\n",
       " ('Historic Annapolis', 217, 220, her),\n",
       " ('Kate Warren', 229, 240, Kate Warren),\n",
       " ('Kate Warren', 261, 264, her),\n",
       " ('Kate Warren', 351, 354, her),\n",
       " ('Kate Warren', 502, 505, her),\n",
       " ('Kate Warren', 580, 583, her),\n",
       " ('Kate Warren', 599, 602, her),\n",
       " ('Kate Warren', 649, 652, She),\n",
       " ('Kate Warren', 820, 823, her),\n",
       " ('Kate Warren', 874, 877, she),\n",
       " ('Kate Warren', 908, 911, her),\n",
       " ('Kate Warren', 1039, 1042, She),\n",
       " ('Kate Warren', 1192, 1195, she),\n",
       " ('Kate Warren', 1212, 1215, she),\n",
       " ('Kate Warren', 1255, 1258, her),\n",
       " ('Kate Warren', 1308, 1311, she),\n",
       " ('Kate Warren', 1329, 1332, she),\n",
       " ('Kate Warren', 1429, 1432, her),\n",
       " ('Kate Warren', 1560, 1563, she),\n",
       " ('Kate Warren', 1636, 1639, she),\n",
       " ('Kate Warren', 1882, 1885, She),\n",
       " ('Kate Warren', 2254, 2257, her),\n",
       " ('Kate Warren', 2294, 2297, her),\n",
       " ('Kate Warren', 2370, 2373, her),\n",
       " ('Kate Warren', 2407, 2410, her),\n",
       " ('Kate Warren', 2444, 2447, her),\n",
       " ('Kate Warren', 2464, 2467, her),\n",
       " ('Kate Warren', 2507, 2510, her),\n",
       " ('Kate Warren', 2600, 2603, she),\n",
       " ('Kate Warren', 2618, 2621, her),\n",
       " ('Kate Warren', 2736, 2739, She),\n",
       " ('Kate Warren', 2749, 2752, she),\n",
       " ('Kate Warren', 2950, 2953, she),\n",
       " ('Kate Warren', 3040, 3043, her),\n",
       " ('Kate Warren', 3092, 3095, her),\n",
       " ('Kate Warren', 3118, 3121, she),\n",
       " ('Kate Warren', 3295, 3298, She),\n",
       " ('Kate Warren', 3339, 3342, her),\n",
       " ('Kate Warren', 3798, 3801, Her),\n",
       " ('Kate Warren', 3821, 3824, she),\n",
       " ('Kate Warren', 3996, 3999, She),\n",
       " ('Kate Warren', 4027, 4030, she),\n",
       " ('Kate Warren', 4108, 4111, her),\n",
       " ('Kate Warren', 4117, 4120, she),\n",
       " ('Kate Warren', 4367, 4370, She),\n",
       " ('Kate Warren', 4740, 4743, She),\n",
       " ('Kate Warren', 4794, 4801, herself),\n",
       " ('Kate Warren', 4875, 4878, her),\n",
       " ('Kate Warren', 4908, 4911, she),\n",
       " ('Kate Warren', 5108, 5111, she),\n",
       " ('Kate Warren', 5214, 5217, she),\n",
       " ('Kate Warren', 5567, 5570, She),\n",
       " ('Kate Warren', 5705, 5708, her),\n",
       " ('Kate Warren', 5723, 5726, she),\n",
       " ('Kate Warren', 5736, 5739, she),\n",
       " ('Kate Warren', 5922, 5925, her),\n",
       " ('Kate Warren', 5967, 5970, she),\n",
       " ('Kate Warren', 6144, 6147, her),\n",
       " ('Kate Warren', 6149, 6152, She),\n",
       " ('Kate Warren', 6195, 6198, she),\n",
       " ('Kate Warren', 6513, 6516, she),\n",
       " ('Kate Warren', 6626, 6629, she),\n",
       " ('Kate Warren', 6653, 6656, her),\n",
       " ('Kate Warren', 6794, 6797, Her),\n",
       " ('Kate Warren', 6871, 6874, Her),\n",
       " ('Kate Warren', 6968, 6971, she),\n",
       " ('Kate Warren', 6980, 6983, her),\n",
       " ('Kate Warren', 7058, 7061, her),\n",
       " ('Kate Warren', 7089, 7092, she),\n",
       " ('Kate Warren', 7295, 7298, her),\n",
       " ('Kate Warren', 7310, 7313, her),\n",
       " ('Kate Warren', 7581, 7584, her),\n",
       " ('Tony Johnson', 2240, 2252, Tony Johnson),\n",
       " ('Tony Johnson', 2314, 2317, his),\n",
       " ('Ray', 2618, 2637, her step-father Ray),\n",
       " ('Ray', 2644, 2647, his),\n",
       " ('Ray', 2692, 2695, his),\n",
       " ('Ray', 2721, 2724, him),\n",
       " ('Matt Jake', 4172, 4185, Matt and Jake),\n",
       " ('Matt Jake', 4251, 4255, they),\n",
       " ('Chris', 6578, 6583, Chris),\n",
       " ('Chris', 6603, 6605, he),\n",
       " ('Chris', 9274, 9279, Chris),\n",
       " ('Chris', 9302, 9305, his),\n",
       " ('Chris', 9707, 9712, Chris),\n",
       " ('Chris', 9719, 9721, He),\n",
       " ('Chris', 9873, 9875, he),\n",
       " ('Chris', 9977, 9979, He),\n",
       " ('Chris', 10091, 10093, he),\n",
       " ('Chris', 10392, 10394, he),\n",
       " ('Chris', 10923, 10928, Chris),\n",
       " ('Chris', 10997, 10999, he),\n",
       " ('Chris', 11045, 11047, he),\n",
       " ('Chris', 11600, 11605, Chris),\n",
       " ('Chris', 13880, 13885, Chris),\n",
       " ('Chris', 14567, 14572, Chris),\n",
       " ('Chris', 14601, 14604, him),\n",
       " ('Chris', 14950, 14953, him),\n",
       " ('Chris', 15008, 15010, he),\n",
       " ('Chris', 15088, 15093, Chris),\n",
       " ('Chris', 15321, 15326, Chris),\n",
       " ('Kate', 7342, 7346, Kate),\n",
       " ('Kate', 7765, 7769, Kate),\n",
       " ('Kate', 7843, 7846, her),\n",
       " ('Kate', 7916, 7919, she),\n",
       " ('Kate', 8113, 8119, \" Kate),\n",
       " ('Kate', 8115, 8119, Kate),\n",
       " ('Kate', 8134, 8137, her),\n",
       " ('Kate', 8192, 8199, herself),\n",
       " ('Kate', 8295, 8298, she),\n",
       " ('Kate', 8526, 8530, Kate),\n",
       " ('Kate', 8604, 8607, her),\n",
       " ('Kate', 8653, 8656, she),\n",
       " ('Kate', 8690, 8697, herself),\n",
       " ('Kate', 8744, 8747, her),\n",
       " ('Kate', 8788, 8791, she),\n",
       " ('Kate', 8813, 8816, She),\n",
       " ('Kate', 8841, 8844, her),\n",
       " ('Kate', 8891, 8894, her),\n",
       " ('Kate', 8923, 8926, her),\n",
       " ('Kate', 9109, 9112, her),\n",
       " ('Kate', 9114, 9117, She),\n",
       " ('Kate', 9188, 9191, her),\n",
       " ('Kate', 9218, 9221, her),\n",
       " ('Kate', 9235, 9238, her),\n",
       " ('Kate', 9432, 9435, She),\n",
       " ('Kate', 9473, 9476, she),\n",
       " ('Kate', 9556, 9559, her),\n",
       " ('Kate', 9765, 9768, she),\n",
       " ('Kate', 9922, 9925, she),\n",
       " ('Kate', 9963, 9966, She),\n",
       " ('Kate', 10071, 10074, She),\n",
       " ('Kate', 10258, 10261, She),\n",
       " ('Kate', 10535, 10538, She),\n",
       " ('Kate', 10581, 10584, her),\n",
       " ('Kate', 10606, 10613, herself),\n",
       " ('Kate', 10800, 10803, she),\n",
       " ('Kate', 10820, 10823, she),\n",
       " ('Kate', 11053, 11056, She),\n",
       " ('Kate', 11066, 11069, She),\n",
       " ('Kate', 11078, 11081, she),\n",
       " ('Kate', 11134, 11137, she),\n",
       " ('Kate', 11155, 11158, her),\n",
       " ('Kate', 11176, 11179, her),\n",
       " ('Kate', 11198, 11201, her),\n",
       " ('Kate', 11258, 11261, her),\n",
       " ('Kate', 11343, 11346, her),\n",
       " ('Kate', 11361, 11364, she),\n",
       " ('Kate', 11402, 11405, her),\n",
       " ('Kate', 11413, 11416, her),\n",
       " ('Kate', 11583, 11586, she),\n",
       " ('Kate', 11615, 11618, her),\n",
       " ('Kate', 11688, 11691, her),\n",
       " ('Kate', 11730, 11733, her),\n",
       " ('Kate', 11764, 11767, She),\n",
       " ('Kate', 11792, 11795, she),\n",
       " ('Kate', 12034, 12037, she),\n",
       " ('Kate', 12059, 12062, her),\n",
       " ('Kate', 12069, 12072, She),\n",
       " ('Kate', 12312, 12315, She),\n",
       " ('Kate', 12771, 12774, She),\n",
       " ('Kate', 12944, 12947, she),\n",
       " ('Kate', 12958, 12965, herself),\n",
       " ('Kate', 13029, 13032, She),\n",
       " ('Kate', 13062, 13065, her),\n",
       " ('Kate', 13133, 13136, her),\n",
       " ('Kate', 13159, 13162, her),\n",
       " ('Kate', 13211, 13214, she),\n",
       " ('Kate', 13376, 13379, she),\n",
       " ('Kate', 13453, 13456, She),\n",
       " ('Kate', 13481, 13484, her),\n",
       " ('Kate', 13492, 13495, she),\n",
       " ('Kate', 13522, 13525, her),\n",
       " ('Kate', 13794, 13797, she),\n",
       " ('Kate', 13867, 13870, her),\n",
       " ('Kate', 13896, 13899, she),\n",
       " ('Kate', 14041, 14044, her),\n",
       " ('Kate', 14104, 14107, her),\n",
       " ('Kate', 14351, 14355, Kate),\n",
       " ('Kate', 14351, 14363, Kate herself),\n",
       " ('Kate', 15983, 15987, Kate),\n",
       " ('Kate', 15993, 15996, her),\n",
       " ('Kate', 16104, 16107, her),\n",
       " ('Kate', 16144, 16147, she),\n",
       " ('Kate', 16345, 16349, Kate),\n",
       " ('McDonough', 11527, 11549, old gargoyle McDonough),\n",
       " ('McDonough', 11814, 11816, he),\n",
       " ('McDonough', 11917, 11919, He),\n",
       " ('McDonough', 11996, 11998, he),\n",
       " ('McDonough', 12140, 12142, he),\n",
       " ('McDonough', 12369, 12371, He),\n",
       " ('McDonough', 12450, 12452, he),\n",
       " ('McDonough', 12579, 12582, His),\n",
       " ('McDonough', 12603, 12605, he),\n",
       " ('McDonough', 12974, 12976, He),\n",
       " ('McDonough', 13001, 13003, he),\n",
       " ('McDonough', 13043, 13045, he),\n",
       " ('McDonough', 13441, 13443, he)]"
      ]
     },
     "execution_count": 9,
     "metadata": {},
     "output_type": "execute_result"
    }
   ],
   "source": [
    "r = timeline(book)\n",
    "r"
   ]
  },
  {
   "cell_type": "code",
   "execution_count": 10,
   "id": "572b6dea",
   "metadata": {},
   "outputs": [],
   "source": [
    "# Timeline for long doucments\n",
    "# given some text and level of granularity, returns list of entities along with their index\n",
    "def timeline(txt):\n",
    "    limits = []\n",
    "    char_ref = {}\n",
    "    for i, m in enumerate(re.finditer('\\n\\n', txt)):\n",
    "        if i>0 and i%10==0:  # consider 10 paras as single entity\n",
    "            limits.append(m.start())\n",
    "    limits.append(len(txt))\n",
    "\n",
    "    st = 0\n",
    "    res = {}\n",
    "    for end in limits:\n",
    "        doc = nlp(txt[st:end])\n",
    "        for c in doc._.coref_clusters:\n",
    "            # we only consider proper nouns like 'ALICE'\n",
    "            main_ent = extract_main_entity(c.main)\n",
    "                \n",
    "            if len(main_ent)>0:\n",
    "                if main_ent not in res:\n",
    "                    res[main_ent] = []\n",
    "                #print(str(main_entity), len(c.mentions))\n",
    "                for ent in c.mentions:\n",
    "                    #res.append((main_ent, st + ent.start_char))\n",
    "                    res[main_ent].append((main_ent, st + ent.start_char, st + ent.end_char, ent))\n",
    "                    char_ref[st + ent.start_char] = main_ent\n",
    "        st = end + 1\n",
    "    \n",
    "    r = []\n",
    "    for k in res:\n",
    "        r.extend(res[k])\n",
    "    \n",
    "    return r, char_ref"
   ]
  },
  {
   "cell_type": "code",
   "execution_count": 11,
   "id": "791e6f8d",
   "metadata": {},
   "outputs": [],
   "source": [
    "r, ch = timeline(book)"
   ]
  },
  {
   "cell_type": "code",
   "execution_count": 12,
   "id": "6515adc3",
   "metadata": {},
   "outputs": [
    {
     "data": {
      "text/plain": [
       "{114: 'Historic Annapolis',\n",
       " 174: 'Historic Annapolis',\n",
       " 201: 'Historic Annapolis',\n",
       " 217: 'Historic Annapolis',\n",
       " 229: 'Kate Warren',\n",
       " 261: 'Kate Warren',\n",
       " 351: 'Kate Warren',\n",
       " 502: 'Kate Warren',\n",
       " 580: 'Kate Warren',\n",
       " 599: 'Kate Warren',\n",
       " 649: 'Kate Warren',\n",
       " 820: 'Kate Warren',\n",
       " 874: 'Kate Warren',\n",
       " 908: 'Kate Warren',\n",
       " 1039: 'Kate Warren',\n",
       " 1192: 'Kate Warren',\n",
       " 1212: 'Kate Warren',\n",
       " 1255: 'Kate Warren',\n",
       " 1308: 'Kate Warren',\n",
       " 1329: 'Kate Warren',\n",
       " 1429: 'Kate Warren',\n",
       " 1560: 'Kate Warren',\n",
       " 1636: 'Kate Warren',\n",
       " 1882: 'Kate Warren',\n",
       " 2254: 'Kate Warren',\n",
       " 2294: 'Kate Warren',\n",
       " 2370: 'Kate Warren',\n",
       " 2407: 'Kate Warren',\n",
       " 2444: 'Kate Warren',\n",
       " 2464: 'Kate Warren',\n",
       " 2507: 'Kate Warren',\n",
       " 2600: 'Kate Warren',\n",
       " 2618: 'Ray',\n",
       " 2736: 'Kate Warren',\n",
       " 2749: 'Kate Warren',\n",
       " 2950: 'Kate Warren',\n",
       " 3040: 'Kate Warren',\n",
       " 3092: 'Kate Warren',\n",
       " 3118: 'Kate Warren',\n",
       " 3295: 'Kate Warren',\n",
       " 3339: 'Kate Warren',\n",
       " 3798: 'Kate Warren',\n",
       " 3821: 'Kate Warren',\n",
       " 3996: 'Kate Warren',\n",
       " 4027: 'Kate Warren',\n",
       " 4108: 'Kate Warren',\n",
       " 4117: 'Kate Warren',\n",
       " 4367: 'Kate Warren',\n",
       " 4740: 'Kate Warren',\n",
       " 4794: 'Kate Warren',\n",
       " 4875: 'Kate Warren',\n",
       " 4908: 'Kate Warren',\n",
       " 5108: 'Kate Warren',\n",
       " 5214: 'Kate Warren',\n",
       " 5567: 'Kate Warren',\n",
       " 5705: 'Kate Warren',\n",
       " 5723: 'Kate Warren',\n",
       " 5736: 'Kate Warren',\n",
       " 5922: 'Kate Warren',\n",
       " 5967: 'Kate Warren',\n",
       " 6144: 'Kate Warren',\n",
       " 6149: 'Kate Warren',\n",
       " 6195: 'Kate Warren',\n",
       " 6513: 'Kate Warren',\n",
       " 6626: 'Kate Warren',\n",
       " 6653: 'Kate Warren',\n",
       " 6794: 'Kate Warren',\n",
       " 6871: 'Kate Warren',\n",
       " 6968: 'Kate Warren',\n",
       " 6980: 'Kate Warren',\n",
       " 7058: 'Kate Warren',\n",
       " 7089: 'Kate Warren',\n",
       " 7295: 'Kate Warren',\n",
       " 7310: 'Kate Warren',\n",
       " 7581: 'Kate Warren',\n",
       " 2240: 'Tony Johnson',\n",
       " 2314: 'Tony Johnson',\n",
       " 2644: 'Ray',\n",
       " 2692: 'Ray',\n",
       " 2721: 'Ray',\n",
       " 4172: 'Matt Jake',\n",
       " 4251: 'Matt Jake',\n",
       " 6578: 'Chris',\n",
       " 6603: 'Chris',\n",
       " 9274: 'Chris',\n",
       " 9302: 'Chris',\n",
       " 9707: 'Chris',\n",
       " 9719: 'Chris',\n",
       " 9873: 'Chris',\n",
       " 9977: 'Chris',\n",
       " 10091: 'Chris',\n",
       " 10392: 'Chris',\n",
       " 10923: 'Chris',\n",
       " 10997: 'Chris',\n",
       " 11045: 'Chris',\n",
       " 11600: 'Chris',\n",
       " 13880: 'Chris',\n",
       " 14567: 'Chris',\n",
       " 14601: 'Chris',\n",
       " 14950: 'Chris',\n",
       " 15008: 'Chris',\n",
       " 15088: 'Chris',\n",
       " 15321: 'Chris',\n",
       " 7342: 'Kate',\n",
       " 7765: 'Kate',\n",
       " 7843: 'Kate',\n",
       " 7916: 'Kate',\n",
       " 8113: 'Kate',\n",
       " 8115: 'Kate',\n",
       " 8134: 'Kate',\n",
       " 8192: 'Kate',\n",
       " 8295: 'Kate',\n",
       " 8526: 'Kate',\n",
       " 8604: 'Kate',\n",
       " 8653: 'Kate',\n",
       " 8690: 'Kate',\n",
       " 8744: 'Kate',\n",
       " 8788: 'Kate',\n",
       " 8813: 'Kate',\n",
       " 8841: 'Kate',\n",
       " 8891: 'Kate',\n",
       " 8923: 'Kate',\n",
       " 9109: 'Kate',\n",
       " 9114: 'Kate',\n",
       " 9188: 'Kate',\n",
       " 9218: 'Kate',\n",
       " 9235: 'Kate',\n",
       " 9432: 'Kate',\n",
       " 9473: 'Kate',\n",
       " 9556: 'Kate',\n",
       " 9765: 'Kate',\n",
       " 9922: 'Kate',\n",
       " 9963: 'Kate',\n",
       " 10071: 'Kate',\n",
       " 10258: 'Kate',\n",
       " 10535: 'Kate',\n",
       " 10581: 'Kate',\n",
       " 10606: 'Kate',\n",
       " 10800: 'Kate',\n",
       " 10820: 'Kate',\n",
       " 11053: 'Kate',\n",
       " 11066: 'Kate',\n",
       " 11078: 'Kate',\n",
       " 11134: 'Kate',\n",
       " 11155: 'Kate',\n",
       " 11176: 'Kate',\n",
       " 11198: 'Kate',\n",
       " 11258: 'Kate',\n",
       " 11343: 'Kate',\n",
       " 11361: 'Kate',\n",
       " 11402: 'Kate',\n",
       " 11413: 'Kate',\n",
       " 11583: 'Kate',\n",
       " 11615: 'Kate',\n",
       " 11688: 'Kate',\n",
       " 11730: 'Kate',\n",
       " 11764: 'Kate',\n",
       " 11792: 'Kate',\n",
       " 12034: 'Kate',\n",
       " 12059: 'Kate',\n",
       " 12069: 'Kate',\n",
       " 12312: 'Kate',\n",
       " 12771: 'Kate',\n",
       " 12944: 'Kate',\n",
       " 12958: 'Kate',\n",
       " 13029: 'Kate',\n",
       " 13062: 'Kate',\n",
       " 13133: 'Kate',\n",
       " 13159: 'Kate',\n",
       " 13211: 'Kate',\n",
       " 13376: 'Kate',\n",
       " 13453: 'Kate',\n",
       " 13481: 'Kate',\n",
       " 13492: 'Kate',\n",
       " 13522: 'Kate',\n",
       " 13794: 'Kate',\n",
       " 13867: 'Kate',\n",
       " 13896: 'Kate',\n",
       " 14041: 'Kate',\n",
       " 14104: 'Kate',\n",
       " 14351: 'Kate',\n",
       " 15983: 'Kate',\n",
       " 15993: 'Kate',\n",
       " 16104: 'Kate',\n",
       " 16144: 'Kate',\n",
       " 16345: 'Kate',\n",
       " 11527: 'McDonough',\n",
       " 11814: 'McDonough',\n",
       " 11917: 'McDonough',\n",
       " 11996: 'McDonough',\n",
       " 12140: 'McDonough',\n",
       " 12369: 'McDonough',\n",
       " 12450: 'McDonough',\n",
       " 12579: 'McDonough',\n",
       " 12603: 'McDonough',\n",
       " 12974: 'McDonough',\n",
       " 13001: 'McDonough',\n",
       " 13043: 'McDonough',\n",
       " 13441: 'McDonough'}"
      ]
     },
     "execution_count": 12,
     "metadata": {},
     "output_type": "execute_result"
    }
   ],
   "source": [
    "ch"
   ]
  },
  {
   "cell_type": "code",
   "execution_count": null,
   "id": "d6388bbe",
   "metadata": {},
   "outputs": [],
   "source": []
  }
 ],
 "metadata": {
  "kernelspec": {
   "display_name": "Python [conda env:story] *",
   "language": "python",
   "name": "conda-env-story-py"
  },
  "language_info": {
   "codemirror_mode": {
    "name": "ipython",
    "version": 3
   },
   "file_extension": ".py",
   "mimetype": "text/x-python",
   "name": "python",
   "nbconvert_exporter": "python",
   "pygments_lexer": "ipython3",
   "version": "3.6.13"
  }
 },
 "nbformat": 4,
 "nbformat_minor": 5
}
