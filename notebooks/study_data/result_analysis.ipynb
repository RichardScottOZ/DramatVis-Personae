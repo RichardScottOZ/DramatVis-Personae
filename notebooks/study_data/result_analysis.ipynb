{
 "cells": [
  {
   "cell_type": "code",
   "execution_count": 7,
   "metadata": {},
   "outputs": [],
   "source": [
    "import pandas as pd\n",
    "import matplotlib.pyplot as plt\n",
    "import seaborn as sns\n",
    "from scipy import stats\n",
    "import numpy as np\n",
    "from statistics import mean, stdev\n",
    "from math import sqrt"
   ]
  },
  {
   "cell_type": "code",
   "execution_count": 2,
   "metadata": {},
   "outputs": [],
   "source": [
    "plt.rcParams.update({'font.size': 14})"
   ]
  },
  {
   "cell_type": "code",
   "execution_count": 3,
   "metadata": {},
   "outputs": [],
   "source": [
    "# def plot_dist(df, x, y, ylabel, ylim):\n",
    "#     fig, ax = plt.subplots(figsize = (4,3))\n",
    "#     # create another grouped boxplot \n",
    "#     box_plot = sns.boxplot(x = df[x],\n",
    "#                 y = df[y],\n",
    "#                palette = {'Baseline': '#70AD47', 'DVP': '#5B9BD5'}, medianprops={'color':'red'}, showmeans=True,\n",
    "#                           meanprops={ \"markerfacecolor\":\"white\", \"markeredgecolor\":\"black\", \"markersize\": \"10\"})\n",
    "\n",
    "#     ax.set_ylim(ylim[0],ylim[1])\n",
    "#     ax.set_xlabel(\"\")\n",
    "#     ax.set_ylabel(ylabel)\n",
    "    \n",
    "def plot_dist(x_label, avg, errs, ylabel, ylim, file_name=None):\n",
    "    fig, ax = plt.subplots(figsize = (3,3))\n",
    "    # create another grouped boxplot \n",
    "    ax.bar(x_label, avg, yerr=errs, align='center', alpha=0.5, ecolor='black', \n",
    "           capsize=10, color = ['steelblue', 'orange'])\n",
    "\n",
    "    ax.set_ylim(ylim[0],ylim[1])\n",
    "    ax.set_xlabel(\"\")\n",
    "    ax.set_ylabel(ylabel)\n",
    "    if file_name:\n",
    "        plt.savefig(file_name, bbox_inches=\"tight\")\n",
    "    "
   ]
  },
  {
   "cell_type": "code",
   "execution_count": 12,
   "metadata": {},
   "outputs": [],
   "source": [
    "def normality_test(df, x, y):\n",
    "    r1 = df[df[x] == 'Baseline'][y].values.tolist()\n",
    "    r2 = df[df[x] == 'DVP'][y].values.tolist()\n",
    "    \n",
    "    return [stats.normaltest(r1), stats.normaltest(r2)]"
   ]
  },
  {
   "cell_type": "code",
   "execution_count": 13,
   "metadata": {},
   "outputs": [],
   "source": [
    "def ttest(df, x, y):\n",
    "    r1 = df[df[x] == 'Baseline'][y].values.tolist()\n",
    "    r2 = df[df[x] == 'DVP'][y].values.tolist()\n",
    "    \n",
    "    return stats.ttest_rel(r1, r2)"
   ]
  },
  {
   "cell_type": "code",
   "execution_count": 14,
   "metadata": {},
   "outputs": [],
   "source": [
    "def get_average(df, x, y):\n",
    "    \n",
    "    r1 = df[df[x] == 'Baseline'][y].values.tolist()\n",
    "    r2 = df[df[x] == 'DVP'][y].values.tolist()\n",
    "    \n",
    "    r1 = sum(r1)/len(r1)\n",
    "    r2 = sum(r2)/len(r2)\n",
    "    \n",
    "    return [r1, r2]"
   ]
  },
  {
   "cell_type": "code",
   "execution_count": 15,
   "metadata": {},
   "outputs": [],
   "source": [
    "def get_std(df, x, y):\n",
    "    \n",
    "    r1 = df[df[x] == 'Baseline'][y].values\n",
    "    r2 = df[df[x] == 'DVP'][y].values\n",
    "    \n",
    "    r1 = np.std(r1)\n",
    "    r2 = np.std(r2)\n",
    "    \n",
    "    return [r1, r2]"
   ]
  },
  {
   "cell_type": "code",
   "execution_count": 23,
   "metadata": {},
   "outputs": [],
   "source": [
    "def sub_df(df, story, v):\n",
    "    \n",
    "    df = df[df['Story'] == story]\n",
    "    r1 = df[df['Interface'] == 'Baseline'][v].values.tolist()\n",
    "    r2 = df[df['Interface'] == 'DVP'][v].values.tolist()\n",
    "    \n",
    "    return [r1, r2]\n",
    "    "
   ]
  },
  {
   "cell_type": "code",
   "execution_count": 24,
   "metadata": {},
   "outputs": [],
   "source": [
    "def cohens_d(c0, c1):\n",
    "    return (mean(c0) - mean(c1)) / (sqrt((stdev(c0) ** 2 + stdev(c1) ** 2) / 2))"
   ]
  },
  {
   "cell_type": "code",
   "execution_count": 33,
   "metadata": {},
   "outputs": [],
   "source": [
    "from numpy import std, mean, sqrt\n",
    "def cohens_d(x,y):\n",
    "    nx = len(x)\n",
    "    ny = len(y)\n",
    "    dof = nx + ny - 2\n",
    "    return (mean(x) - mean(y)) / sqrt(((nx-1)*std(x, ddof=1) ** 2 + (ny-1)*std(y, ddof=1) ** 2) / dof)"
   ]
  },
  {
   "cell_type": "code",
   "execution_count": 31,
   "metadata": {},
   "outputs": [],
   "source": [
    "def cohens_d(x,y):\n",
    "    differences_group_values = np.subtract(x, y)\n",
    "    std_dev_differences_group_values = np.std(differences_group_values, ddof=1)\n",
    "    d = round(abs((mean_1 - mean_2)/std_dev_differences_group_values), 2)\n",
    "    \n",
    "    return d"
   ]
  },
  {
   "cell_type": "markdown",
   "metadata": {},
   "source": [
    "#### Accuracy"
   ]
  },
  {
   "cell_type": "code",
   "execution_count": 50,
   "metadata": {},
   "outputs": [
    {
     "data": {
      "image/png": "[encoded data removed]",
      "text/plain": [
       "<Figure size 216x216 with 1 Axes>"
      ]
     },
     "metadata": {
      "needs_background": "light"
     },
     "output_type": "display_data"
    }
   ],
   "source": [
    "acc = pd.read_csv(\"accuracy.csv\")\n",
    "acc['Score'] = acc['Score']\n",
    "acc['Interface'].replace({\"DramatVis Personae\": \"DVP\"}, inplace=True)\n",
    "avg = get_average(acc, 'Interface', 'Score')\n",
    "errs = get_std(acc, 'Interface', 'Score')\n",
    "plot_dist(['Baseline', 'DVP'], avg, errs, 'Average Accuracy', [0, 105], \"accuracy.pdf\")"
   ]
  },
  {
   "cell_type": "code",
   "execution_count": 51,
   "metadata": {},
   "outputs": [
    {
     "name": "stdout",
     "output_type": "stream",
     "text": [
      "[71.42857143, 57.14285714, 57.14285714, 57.14285714, 71.42857143] [100.0, 85.71428571, 100.0, 100.0, 85.71428571, 100.0]\n"
     ]
    },
    {
     "data": {
      "text/plain": [
       "4.272309863255904"
      ]
     },
     "execution_count": 51,
     "metadata": {},
     "output_type": "execute_result"
    }
   ],
   "source": [
    "[r1, r2] = sub_df(acc, 'A kiss of Ice', 'Score')\n",
    "print(r1, r2)\n",
    "cohens_d(r2, r1)"
   ]
  },
  {
   "cell_type": "code",
   "execution_count": 52,
   "metadata": {},
   "outputs": [
    {
     "name": "stdout",
     "output_type": "stream",
     "text": [
      "[71.42857143, 28.57142857, 42.85714286, 57.14285714, 71.42857143, 28.57142857] [100.0, 85.71428571, 85.71428571, 100.0, 71.42857143]\n"
     ]
    },
    {
     "data": {
      "text/plain": [
       "2.309577091313766"
      ]
     },
     "execution_count": 52,
     "metadata": {},
     "output_type": "execute_result"
    }
   ],
   "source": [
    "[r1, r2] = sub_df(acc, 'The Prisoners', 'Score')\n",
    "print(r1, r2)\n",
    "cohens_d(r2, r1)"
   ]
  },
  {
   "cell_type": "code",
   "execution_count": 17,
   "metadata": {},
   "outputs": [
    {
     "name": "stdout",
     "output_type": "stream",
     "text": [
      "average:  [5584.415584363636, 9220.779220636365]\n",
      "std:  [1547.5812062770492, 936.5068248750841]\n",
      "diff -3636.3636362727284\n"
     ]
    },
    {
     "data": {
      "text/plain": [
       "Ttest_relResult(statistic=-5.863954715744246, pvalue=0.00015858665202644505)"
      ]
     },
     "execution_count": 17,
     "metadata": {},
     "output_type": "execute_result"
    }
   ],
   "source": [
    "print(\"average: \", avg)\n",
    "print(\"std: \", errs)\n",
    "print(\"diff\", avg[0] - avg[1])\n",
    "# print(normality_test(acc, 'Interface', 'Score'))\n",
    "ttest(acc, 'Interface', 'Score')"
   ]
  },
  {
   "cell_type": "markdown",
   "metadata": {},
   "source": [
    "#### Time"
   ]
  },
  {
   "cell_type": "code",
   "execution_count": 38,
   "metadata": {},
   "outputs": [
    {
     "data": {
      "image/png": "[encoded data removed]",
      "text/plain": [
       "<Figure size 216x216 with 1 Axes>"
      ]
     },
     "metadata": {
      "needs_background": "light"
     },
     "output_type": "display_data"
    }
   ],
   "source": [
    "tm = pd.read_csv(\"time.csv\")\n",
    "tm['Interface'].replace({\"DramatVis Personae\": \"DVP\"}, inplace=True)\n",
    "\n",
    "avg = get_average(tm, 'Interface', 'Time (Minutes)')\n",
    "errs = get_std(tm, 'Interface', 'Time (Minutes)')\n",
    "plot_dist(['Baseline', 'DVP'], avg, errs, 'Average Time (Mins)', [0, 8], \"time.pdf\")"
   ]
  },
  {
   "cell_type": "code",
   "execution_count": 40,
   "metadata": {},
   "outputs": [
    {
     "name": "stdout",
     "output_type": "stream",
     "text": [
      "[8.25, 3.4, 4.3, 3.44, 5.2] [4.4, 3.46, 5.3, 2.15, 3.2, 2.55]\n"
     ]
    },
    {
     "data": {
      "text/plain": [
       "-0.8823299150188504"
      ]
     },
     "execution_count": 40,
     "metadata": {},
     "output_type": "execute_result"
    }
   ],
   "source": [
    "[r1, r2] = sub_df(tm, 'A kiss of Ice', 'Time (Minutes)')\n",
    "print(r1, r2)\n",
    "cohens_d(r2, r1)"
   ]
  },
  {
   "cell_type": "code",
   "execution_count": 42,
   "metadata": {},
   "outputs": [
    {
     "name": "stdout",
     "output_type": "stream",
     "text": [
      "[5.1, 3.5, 8.4, 2.35, 3.4, 3.45] [3.31, 4.3, 3.5, 2.3, 2.3]\n"
     ]
    },
    {
     "data": {
      "text/plain": [
       "-0.7162240625463696"
      ]
     },
     "execution_count": 42,
     "metadata": {},
     "output_type": "execute_result"
    }
   ],
   "source": [
    "[r1, r2] = sub_df(tm, 'The Prisoners', 'Time (Minutes)')\n",
    "print(r1, r2)\n",
    "cohens_d(r2, r1)"
   ]
  },
  {
   "cell_type": "code",
   "execution_count": 224,
   "metadata": {},
   "outputs": [
    {
     "name": "stdout",
     "output_type": "stream",
     "text": [
      "average:  [4.734, 3.4219999999999997]\n",
      "std:  [1.9692902274677546, 0.9725924120617023]\n",
      "diff 1.3120000000000003\n"
     ]
    },
    {
     "data": {
      "text/plain": [
       "Ttest_relResult(statistic=2.3302035145933924, pvalue=0.04473221642997322)"
      ]
     },
     "execution_count": 224,
     "metadata": {},
     "output_type": "execute_result"
    }
   ],
   "source": [
    "print(\"average: \", avg)\n",
    "print(\"std: \", errs)\n",
    "print(\"diff\", avg[0] - avg[1])\n",
    "ttest(tm, 'Interface', 'Time (Minutes)')"
   ]
  },
  {
   "cell_type": "markdown",
   "metadata": {},
   "source": [
    "#### SUS"
   ]
  },
  {
   "cell_type": "code",
   "execution_count": 43,
   "metadata": {},
   "outputs": [
    {
     "data": {
      "image/png": "[encoded data removed]",
      "text/plain": [
       "<Figure size 216x216 with 1 Axes>"
      ]
     },
     "metadata": {
      "needs_background": "light"
     },
     "output_type": "display_data"
    }
   ],
   "source": [
    "sus = pd.read_csv(\"SUS.csv\")\n",
    "sus['Interface'].replace({\"DramatVis Personae\": \"DVP\"}, inplace=True)\n",
    "\n",
    "avg = get_average(sus, 'Interface', 'Score')\n",
    "errs = get_std(sus, 'Interface', 'Score')\n",
    "plot_dist(['Baseline', 'DVP'], avg, errs, 'Average Score', [0, 105], \"sus.pdf\")"
   ]
  },
  {
   "cell_type": "code",
   "execution_count": 228,
   "metadata": {},
   "outputs": [
    {
     "name": "stdout",
     "output_type": "stream",
     "text": [
      "average:  [74.75, 79.5]\n",
      "std:  [13.84963898446454, 11.661903789690601]\n",
      "diff -4.75\n"
     ]
    },
    {
     "data": {
      "text/plain": [
       "Ttest_relResult(statistic=-0.9116791454012928, pvalue=0.3857060081019854)"
      ]
     },
     "execution_count": 228,
     "metadata": {},
     "output_type": "execute_result"
    }
   ],
   "source": [
    "print(\"average: \", avg)\n",
    "print(\"std: \", errs)\n",
    "print(\"diff\", avg[0] - avg[1])\n",
    "ttest(sus, 'Interface', 'Score')"
   ]
  },
  {
   "cell_type": "code",
   "execution_count": 45,
   "metadata": {},
   "outputs": [
    {
     "name": "stdout",
     "output_type": "stream",
     "text": [
      "[77.5, 95.0, 65.0, 90.0, 70.0] [72.5, 62.5, 95.0, 87.5, 80.0, 72.5]\n"
     ]
    },
    {
     "data": {
      "text/plain": [
       "-0.09567222999142348"
      ]
     },
     "execution_count": 45,
     "metadata": {},
     "output_type": "execute_result"
    }
   ],
   "source": [
    "[r1, r2] = sub_df(sus, 'A kiss of Ice', 'Score')\n",
    "print(r1, r2)\n",
    "cohens_d(r2, r1)"
   ]
  },
  {
   "cell_type": "markdown",
   "metadata": {},
   "source": [
    "#### NASA TLX"
   ]
  },
  {
   "cell_type": "code",
   "execution_count": 46,
   "metadata": {},
   "outputs": [
    {
     "data": {
      "image/png": "[encoded data removed]",
      "text/plain": [
       "<Figure size 216x216 with 1 Axes>"
      ]
     },
     "metadata": {
      "needs_background": "light"
     },
     "output_type": "display_data"
    }
   ],
   "source": [
    "tlx = pd.read_csv(\"nasa-tlx.csv\")\n",
    "tlx['Interface'].replace({\"DramatVis Personae\": \"DVP\"}, inplace=True)\n",
    "avg = get_average(tlx, 'Interface', 'Score')\n",
    "errs = get_std(tlx, 'Interface', 'Score')\n",
    "plot_dist(['Baseline', 'DVP'], avg, errs, 'Average Score', [0, 60], 'tlx.pdf')"
   ]
  },
  {
   "cell_type": "code",
   "execution_count": 47,
   "metadata": {},
   "outputs": [
    {
     "name": "stdout",
     "output_type": "stream",
     "text": [
      "average:  [38.106060607272724, 27.272727272727273]\n",
      "std:  [12.309615344690979, 7.745077526844516]\n",
      "diff 10.83333333454545\n"
     ]
    },
    {
     "data": {
      "text/plain": [
       "Ttest_relResult(statistic=4.048863799481983, pvalue=0.002327822378896349)"
      ]
     },
     "execution_count": 47,
     "metadata": {},
     "output_type": "execute_result"
    }
   ],
   "source": [
    "print(\"average: \", avg)\n",
    "print(\"std: \", errs)\n",
    "print(\"diff\", avg[0] - avg[1])\n",
    "ttest(tlx, 'Interface', 'Score')"
   ]
  },
  {
   "cell_type": "code",
   "execution_count": 49,
   "metadata": {},
   "outputs": [
    {
     "name": "stdout",
     "output_type": "stream",
     "text": [
      "[60.0, 36.66666667, 62.5, 30.0, 40.0, 20.0] [40.83333333, 22.5, 24.16666667, 22.5, 24.16666667]\n"
     ]
    },
    {
     "data": {
      "text/plain": [
       "-1.0848838188119903"
      ]
     },
     "execution_count": 49,
     "metadata": {},
     "output_type": "execute_result"
    }
   ],
   "source": [
    "[r1, r2] = sub_df(tlx, 'The Prisoners', 'Score')\n",
    "print(r1, r2)\n",
    "cohens_d(r2, r1)"
   ]
  },
  {
   "cell_type": "code",
   "execution_count": null,
   "metadata": {},
   "outputs": [],
   "source": []
  }
 ],
 "metadata": {
  "kernelspec": {
   "display_name": "Python 3",
   "language": "python",
   "name": "python3"
  },
  "language_info": {
   "codemirror_mode": {
    "name": "ipython",
    "version": 3
   },
   "file_extension": ".py",
   "mimetype": "text/x-python",
   "name": "python",
   "nbconvert_exporter": "python",
   "pygments_lexer": "ipython3",
   "version": "3.7.9"
  }
 },
 "nbformat": 4,
 "nbformat_minor": 4
}
